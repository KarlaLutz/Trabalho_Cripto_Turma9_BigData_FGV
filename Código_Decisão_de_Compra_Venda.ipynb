{
  "nbformat": 4,
  "nbformat_minor": 0,
  "metadata": {
    "colab": {
      "name": "Código Decisão de Compra/Venda",
      "provenance": [],
      "collapsed_sections": [
        "6X70Rv6GLwdC",
        "JgxhLCn6L0wD",
        "TCG08KxboApm"
      ],
      "include_colab_link": true
    },
    "kernelspec": {
      "name": "python3",
      "display_name": "Python 3"
    },
    "language_info": {
      "name": "python"
    }
  },
  "cells": [
    {
      "cell_type": "markdown",
      "metadata": {
        "id": "view-in-github",
        "colab_type": "text"
      },
      "source": [
        "<a href=\"https://colab.research.google.com/github/KarlaLutz/Trabalho_Cripto_Turma9_BigData_FGV/blob/main/C%C3%B3digo_Decis%C3%A3o_de_Compra_Venda.ipynb\" target=\"_parent\"><img src=\"https://colab.research.google.com/assets/colab-badge.svg\" alt=\"Open In Colab\"/></a>"
      ]
    },
    {
      "cell_type": "markdown",
      "metadata": {
        "id": "6X70Rv6GLwdC"
      },
      "source": [
        "# **Importação de Pacotes**"
      ]
    },
    {
      "cell_type": "code",
      "metadata": {
        "id": "X_3lx2ZNLX40",
        "colab": {
          "base_uri": "https://localhost:8080/"
        },
        "outputId": "3b8128c4-38a6-47c5-964a-3d4df2fe9bcd"
      },
      "source": [
        "import pickle\n",
        "import time\n",
        "from simple_robot import feature_eng, api_get, api_post, get_result, compute_quantity, how_much_i_have\n",
        "import numpy as np\n",
        "import pandas as pd\n",
        "import requests\n",
        "import json"
      ],
      "execution_count": 3,
      "outputs": [
        {
          "output_type": "stream",
          "name": "stderr",
          "text": [
            "/usr/local/lib/python3.7/dist-packages/statsmodels/tools/_testing.py:19: FutureWarning: pandas.util.testing is deprecated. Use the functions in the public API at pandas.testing instead.\n",
            "  import pandas.util.testing as tm\n"
          ]
        }
      ]
    },
    {
      "cell_type": "markdown",
      "metadata": {
        "id": "JgxhLCn6L0wD"
      },
      "source": [
        "# **Carregando Modelo Criado**"
      ]
    },
    {
      "cell_type": "code",
      "metadata": {
        "id": "vluYl9wqL535",
        "colab": {
          "base_uri": "https://localhost:8080/"
        },
        "outputId": "9312695c-ab2c-4212-f464-174ca8affa14"
      },
      "source": [
        "from google.colab import drive\n",
        "drive.mount('/drive')\n",
        "\n",
        "model = pickle.load(open('/drive/MyDrive/Colab Notebooks/Trabalho Cripto/model_mls.pickle', 'rb'))\n",
        "token = '64559d394d62025'#'token_dummy_001'\n",
        "ticker = 'BTCUSDT'\n",
        "valor_compra_venda = 10"
      ],
      "execution_count": 4,
      "outputs": [
        {
          "output_type": "stream",
          "name": "stdout",
          "text": [
            "Drive already mounted at /drive; to attempt to forcibly remount, call drive.mount(\"/drive\", force_remount=True).\n"
          ]
        }
      ]
    },
    {
      "cell_type": "markdown",
      "metadata": {
        "id": "TCG08KxboApm"
      },
      "source": [
        "# **Adicionando as novas features**"
      ]
    },
    {
      "cell_type": "code",
      "metadata": {
        "id": "L3FvsI0teVqQ"
      },
      "source": [
        "# Função para converter a hora da transação em hora cheia \n",
        "def add_hora_cheia (row):\n",
        "   import logging\n",
        "   from datetime import datetime\n",
        "   logger = logging.getLogger(__name__)\n",
        "   try:\n",
        "      retorno = pd.Timestamp(year = row.datetime.year,  \n",
        "                            month = row.datetime.month, \n",
        "                            day = row.datetime.day, \n",
        "                            hour = row.datetime.hour, \n",
        "                            second = 0)    \n",
        "   except:\n",
        "     \n",
        "      retorno = pd.Timestamp(year = datetime.today().year,  \n",
        "                            month = datetime.today().month, \n",
        "                            day = datetime.today().day, \n",
        "                            hour = datetime.today().hour, \n",
        "                            second = 0) \n",
        "   return retorno"
      ],
      "execution_count": 5,
      "outputs": []
    },
    {
      "cell_type": "code",
      "metadata": {
        "id": "Xf8wtZbxcu0D"
      },
      "source": [
        "def add_features_df(df):\n",
        "\n",
        "    #Adicionando a hora cheia ao dataframe\n",
        "    #print(type(df))\n",
        "    df['hora_cheia'] = df.apply (lambda row: add_hora_cheia(row), axis=1)\n",
        "\n",
        "    #Buscando a ultima hora e convertendo em um timestamp (string) para uso na chamada da API das features adicionais\n",
        "    df_ts = df.iloc[[np.argmax(df['datetime'])]]\n",
        "    df_ts['hora_cheia'] = df_ts.apply (lambda row: add_hora_cheia(row), axis=1)\n",
        "    timestamp = (pd.to_datetime(df_ts.hora_cheia, unit='s').astype(np.int64) // 10 ** 9)\n",
        "    print(timestamp)\n",
        "    timestamp = str(timestamp)[7:17]\n",
        "\n",
        "    #Chamando a API das features com o ultimo timestamp\n",
        "    url = \"https://api.lunarcrush.com/v2?data=assets&key=qc53fwv86ympdmcwqzb7ml&symbol=BTC&data_points=1&interval=hour&start=\"+timestamp+\"&end=\"+timestamp\n",
        "    request = requests.get(url)\n",
        "    retorno = request.content \n",
        "    data = json.loads(retorno)\n",
        "\n",
        "    #Tratando as variaveis do dataframe com as features\n",
        "    json_object = json.dumps(data['data'][0]['timeSeries'][0], indent = 4) \n",
        "    from pandas.io.json import json_normalize\n",
        "    df_add = json_normalize(data['data'][0]['timeSeries'])\n",
        "    df_add['hora_cheia'] = df_add.apply (lambda row: pd.to_datetime(row.time, unit='s'), axis=1)\n",
        "    df_add = df_add[['hora_cheia','url_shares','reddit_posts','reddit_posts_score','reddit_comments_score','tweet_quotes','tweet_retweets','tweet_replies','tweet_sentiment_impact3','average_sentiment','news','price_score','social_impact_score','correlation_rank','volatility','alt_rank','market_cap_rank','percent_change_24h_rank','volume_24h_rank','social_volume_24h_rank','social_dominance']]\n",
        "    \n",
        "    #Unindo o dataframe original com o novo com as features\n",
        "    df = pd.merge(df, df_add, how='left',  on = 'hora_cheia')\n",
        "    df.fillna(0, inplace=True)\n",
        "    return df\n"
      ],
      "execution_count": 6,
      "outputs": []
    },
    {
      "cell_type": "markdown",
      "metadata": {
        "id": "VUHvlOVPL8rc"
      },
      "source": [
        "# **Verificação de Valores e Decisão de Compra/Venda**"
      ]
    },
    {
      "cell_type": "code",
      "metadata": {
        "colab": {
          "base_uri": "https://localhost:8080/",
          "height": 775
        },
        "id": "QFyH0GkJMCT8",
        "outputId": "3abecfb8-6c68-476c-c4f5-958d0c8227b3"
      },
      "source": [
        "import logging\n",
        "logger = logging.getLogger(__name__)\n",
        "\n",
        "while True:\n",
        "    \n",
        "    try:\n",
        "\n",
        "        # Pegando o OHLC dos últimos 500 minutos\n",
        "        df = api_post('cripto_quotation', {'token': token, 'ticker': ticker})\n",
        "\n",
        "        while isinstance(df, str):\n",
        "          df = api_post('cripto_quotation', {'token': token, 'ticker': ticker})\n",
        "\n",
        "        # Adicionando as features da API\n",
        "        df = add_features_df(df)\n",
        "\n",
        "        # Realizando a engenharia de features\n",
        "        df = feature_eng(df)\n",
        "        \n",
        "        # Isolando a linha mais recente\n",
        "        df_last = df.iloc[[np.argmax(df['time'])]]\n",
        "        \n",
        "        # Calculando tendência, baseada no modelo linear criado\n",
        "        tendencia = model.predict(df_last).iloc[0]\n",
        "        \n",
        "        # A quantidade de cripto que será comprada/ vendida depende do valor_compra_venda e da cotação atual\n",
        "        qtdade = compute_quantity(coin_value = df_last['close'], invest_value = valor_compra_venda, significant_digits = 2)\n",
        "        \n",
        "        # Print do datetime atual\n",
        "        print('-------------------')\n",
        "        now = pd.to_datetime('now')\n",
        "        print(f'{now}')\n",
        "        \n",
        "        if tendencia > 0.02:\n",
        "            # Modelo detectou uma tendência positiva\n",
        "            print(f\"Tendência positiva de {str(tendencia)}\")\n",
        "            \n",
        "            # Verifica quanto dinheiro tem em caixa\n",
        "            qtdade_money = how_much_i_have('money', token)\n",
        "            \n",
        "            if qtdade_money>0:\n",
        "                # Se tem dinheiro, tenta comprar o equivalente a qtdade ou o máximo que o dinheiro permitir\n",
        "                max_qtdade = compute_quantity(coin_value = df_last['close'], invest_value = qtdade_money, significant_digits = 2)\n",
        "                qtdade = min(qtdade, max_qtdade)\n",
        "                \n",
        "                # Realizando a compra\n",
        "                print(f'Comprando {str(qtdade)} {ticker}')\n",
        "                api_post('buy', payload = {'token': token, 'ticker': ticker, 'quantity': qtdade})\n",
        "            \n",
        "        elif tendencia < -0.02:\n",
        "            # Modelo detectou uma tendência negativa\n",
        "            print(f\"Tendência negativa de {str(tendencia)}\")\n",
        "            \n",
        "            # Verifica quanto tem da moeda em caixa\n",
        "            qtdade_coin = how_much_i_have(ticker, token)\n",
        "            \n",
        "            if qtdade_coin>0:\n",
        "                # Se tenho a moeda, vou vender!\n",
        "                qtdade = min(qtdade_coin, qtdade)\n",
        "                print(f'Vendendo {str(qtdade)} {ticker}')\n",
        "                api_post('sell', payload = {'token': token, 'ticker': ticker, 'quantity':qtdade})\n",
        "        else:\n",
        "            # Não faz nenhuma ação, espera próximo loop\n",
        "            print(f\"Tendência neutra de {str(tendencia)}. Nenhuma ação realizada\")\n",
        "        \n",
        "        # Print do status após cada iteração\n",
        "        print(api_post('status', payload = {'token': token}))\n",
        "        time.sleep(60)\n",
        "    except KeyError as e:\n",
        "        logger.exception(e) \n",
        "        continue"
      ],
      "execution_count": 7,
      "outputs": [
        {
          "output_type": "stream",
          "name": "stderr",
          "text": [
            "/usr/local/lib/python3.7/dist-packages/ipykernel_launcher.py:9: SettingWithCopyWarning: \n",
            "A value is trying to be set on a copy of a slice from a DataFrame.\n",
            "Try using .loc[row_indexer,col_indexer] = value instead\n",
            "\n",
            "See the caveats in the documentation: https://pandas.pydata.org/pandas-docs/stable/user_guide/indexing.html#returning-a-view-versus-a-copy\n",
            "  if __name__ == '__main__':\n"
          ]
        },
        {
          "output_type": "stream",
          "name": "stdout",
          "text": [
            "499    1634068800\n",
            "Name: hora_cheia, dtype: int64\n"
          ]
        },
        {
          "output_type": "stream",
          "name": "stderr",
          "text": [
            "/usr/local/lib/python3.7/dist-packages/ipykernel_launcher.py:23: FutureWarning: pandas.io.json.json_normalize is deprecated, use pandas.json_normalize instead\n"
          ]
        },
        {
          "output_type": "stream",
          "name": "stdout",
          "text": [
            "-------------------\n",
            "2021-10-12 20:59:03.752521\n",
            "Tendência negativa de -0.08215376103839324\n",
            "     ticker  quantity\n",
            "0  DOGEUSDT      0.00\n",
            "1   BTCUSDT      0.00\n",
            "2     money   9999.95\n",
            "3     total   9999.95\n"
          ]
        },
        {
          "output_type": "stream",
          "name": "stderr",
          "text": [
            "/usr/local/lib/python3.7/dist-packages/ipykernel_launcher.py:9: SettingWithCopyWarning: \n",
            "A value is trying to be set on a copy of a slice from a DataFrame.\n",
            "Try using .loc[row_indexer,col_indexer] = value instead\n",
            "\n",
            "See the caveats in the documentation: https://pandas.pydata.org/pandas-docs/stable/user_guide/indexing.html#returning-a-view-versus-a-copy\n",
            "  if __name__ == '__main__':\n"
          ]
        },
        {
          "output_type": "stream",
          "name": "stdout",
          "text": [
            "499    1634072400\n",
            "Name: hora_cheia, dtype: int64\n"
          ]
        },
        {
          "output_type": "error",
          "ename": "IndexError",
          "evalue": "ignored",
          "traceback": [
            "\u001b[0;31m---------------------------------------------------------------------------\u001b[0m",
            "\u001b[0;31mIndexError\u001b[0m                                Traceback (most recent call last)",
            "\u001b[0;32m<ipython-input-7-fa1da46c2227>\u001b[0m in \u001b[0;36m<module>\u001b[0;34m()\u001b[0m\n\u001b[1;32m     13\u001b[0m \u001b[0;34m\u001b[0m\u001b[0m\n\u001b[1;32m     14\u001b[0m         \u001b[0;31m# Adicionando as features da API\u001b[0m\u001b[0;34m\u001b[0m\u001b[0;34m\u001b[0m\u001b[0;34m\u001b[0m\u001b[0m\n\u001b[0;32m---> 15\u001b[0;31m         \u001b[0mdf\u001b[0m \u001b[0;34m=\u001b[0m \u001b[0madd_features_df\u001b[0m\u001b[0;34m(\u001b[0m\u001b[0mdf\u001b[0m\u001b[0;34m)\u001b[0m\u001b[0;34m\u001b[0m\u001b[0;34m\u001b[0m\u001b[0m\n\u001b[0m\u001b[1;32m     16\u001b[0m \u001b[0;34m\u001b[0m\u001b[0m\n\u001b[1;32m     17\u001b[0m         \u001b[0;31m# Realizando a engenharia de features\u001b[0m\u001b[0;34m\u001b[0m\u001b[0;34m\u001b[0m\u001b[0;34m\u001b[0m\u001b[0m\n",
            "\u001b[0;32m<ipython-input-6-78c19d11bfe7>\u001b[0m in \u001b[0;36madd_features_df\u001b[0;34m(df)\u001b[0m\n\u001b[1;32m     19\u001b[0m \u001b[0;34m\u001b[0m\u001b[0m\n\u001b[1;32m     20\u001b[0m     \u001b[0;31m#Tratando as variaveis do dataframe com as features\u001b[0m\u001b[0;34m\u001b[0m\u001b[0;34m\u001b[0m\u001b[0;34m\u001b[0m\u001b[0m\n\u001b[0;32m---> 21\u001b[0;31m     \u001b[0mjson_object\u001b[0m \u001b[0;34m=\u001b[0m \u001b[0mjson\u001b[0m\u001b[0;34m.\u001b[0m\u001b[0mdumps\u001b[0m\u001b[0;34m(\u001b[0m\u001b[0mdata\u001b[0m\u001b[0;34m[\u001b[0m\u001b[0;34m'data'\u001b[0m\u001b[0;34m]\u001b[0m\u001b[0;34m[\u001b[0m\u001b[0;36m0\u001b[0m\u001b[0;34m]\u001b[0m\u001b[0;34m[\u001b[0m\u001b[0;34m'timeSeries'\u001b[0m\u001b[0;34m]\u001b[0m\u001b[0;34m[\u001b[0m\u001b[0;36m0\u001b[0m\u001b[0;34m]\u001b[0m\u001b[0;34m,\u001b[0m \u001b[0mindent\u001b[0m \u001b[0;34m=\u001b[0m \u001b[0;36m4\u001b[0m\u001b[0;34m)\u001b[0m\u001b[0;34m\u001b[0m\u001b[0;34m\u001b[0m\u001b[0m\n\u001b[0m\u001b[1;32m     22\u001b[0m     \u001b[0;32mfrom\u001b[0m \u001b[0mpandas\u001b[0m\u001b[0;34m.\u001b[0m\u001b[0mio\u001b[0m\u001b[0;34m.\u001b[0m\u001b[0mjson\u001b[0m \u001b[0;32mimport\u001b[0m \u001b[0mjson_normalize\u001b[0m\u001b[0;34m\u001b[0m\u001b[0;34m\u001b[0m\u001b[0m\n\u001b[1;32m     23\u001b[0m     \u001b[0mdf_add\u001b[0m \u001b[0;34m=\u001b[0m \u001b[0mjson_normalize\u001b[0m\u001b[0;34m(\u001b[0m\u001b[0mdata\u001b[0m\u001b[0;34m[\u001b[0m\u001b[0;34m'data'\u001b[0m\u001b[0;34m]\u001b[0m\u001b[0;34m[\u001b[0m\u001b[0;36m0\u001b[0m\u001b[0;34m]\u001b[0m\u001b[0;34m[\u001b[0m\u001b[0;34m'timeSeries'\u001b[0m\u001b[0;34m]\u001b[0m\u001b[0;34m)\u001b[0m\u001b[0;34m\u001b[0m\u001b[0;34m\u001b[0m\u001b[0m\n",
            "\u001b[0;31mIndexError\u001b[0m: list index out of range"
          ]
        }
      ]
    }
  ]
}