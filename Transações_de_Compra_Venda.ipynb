{
  "nbformat": 4,
  "nbformat_minor": 0,
  "metadata": {
    "colab": {
      "name": "Transações de Compra/Venda",
      "provenance": [],
      "include_colab_link": true
    },
    "kernelspec": {
      "name": "python3",
      "display_name": "Python 3"
    },
    "language_info": {
      "name": "python"
    }
  },
  "cells": [
    {
      "cell_type": "markdown",
      "metadata": {
        "id": "view-in-github",
        "colab_type": "text"
      },
      "source": [
        "<a href=\"https://colab.research.google.com/github/KarlaLutz/Trabalho_Cripto_Turma9_BigData_FGV/blob/main/Transa%C3%A7%C3%B5es_de_Compra_Venda.ipynb\" target=\"_parent\"><img src=\"https://colab.research.google.com/assets/colab-badge.svg\" alt=\"Open In Colab\"/></a>"
      ]
    },
    {
      "cell_type": "markdown",
      "metadata": {
        "id": "nvMCYbCoKGsZ"
      },
      "source": [
        "# **Importação de Pacotes**"
      ]
    },
    {
      "cell_type": "code",
      "metadata": {
        "id": "yR8pRVB5-5uc",
        "colab": {
          "base_uri": "https://localhost:8080/"
        },
        "outputId": "da1dd252-b92f-45e4-a932-ebb8647b6968"
      },
      "source": [
        "import requests\n",
        "from datetime import datetime\n",
        "import pandas as pd\n",
        "import time\n",
        "import json\n",
        "from simple_robot import api_get, api_post, get_result\n",
        "token = '64559d394d62025'"
      ],
      "execution_count": 2,
      "outputs": [
        {
          "output_type": "stream",
          "name": "stderr",
          "text": [
            "/usr/local/lib/python3.7/dist-packages/statsmodels/tools/_testing.py:19: FutureWarning: pandas.util.testing is deprecated. Use the functions in the public API at pandas.testing instead.\n",
            "  import pandas.util.testing as tm\n"
          ]
        }
      ]
    },
    {
      "cell_type": "markdown",
      "metadata": {
        "id": "Zl0Budr9KL5m"
      },
      "source": [
        "# **Verificando Criptomoedas e Cotações**"
      ]
    },
    {
      "cell_type": "code",
      "metadata": {
        "colab": {
          "base_uri": "https://localhost:8080/",
          "height": 35
        },
        "id": "NyIM8r2wGBYY",
        "outputId": "7f8bbce3-3564-40a3-dedf-cac0c833c970"
      },
      "source": [
        "# Verificando cripto disponíveis\n",
        "api_get('available_cripto')"
      ],
      "execution_count": 3,
      "outputs": [
        {
          "output_type": "execute_result",
          "data": {
            "application/vnd.google.colaboratory.intrinsic+json": {
              "type": "string"
            },
            "text/plain": [
              "'BTCUSDT, DOGEUSDT, ETHUSDT'"
            ]
          },
          "metadata": {},
          "execution_count": 3
        }
      ]
    },
    {
      "cell_type": "code",
      "metadata": {
        "colab": {
          "base_uri": "https://localhost:8080/",
          "height": 419
        },
        "id": "hfuDFyxuGI5I",
        "outputId": "c0cce15c-5099-4c7f-a784-53e8583a71c1"
      },
      "source": [
        "# Cotação dos últimos 500 minutos (OHLC) da bitcoin\n",
        "api_post('cripto_quotation', {'token': token, 'ticker': 'BTCUSDT'})"
      ],
      "execution_count": 4,
      "outputs": [
        {
          "output_type": "execute_result",
          "data": {
            "text/html": [
              "<div>\n",
              "<style scoped>\n",
              "    .dataframe tbody tr th:only-of-type {\n",
              "        vertical-align: middle;\n",
              "    }\n",
              "\n",
              "    .dataframe tbody tr th {\n",
              "        vertical-align: top;\n",
              "    }\n",
              "\n",
              "    .dataframe thead th {\n",
              "        text-align: right;\n",
              "    }\n",
              "</style>\n",
              "<table border=\"1\" class=\"dataframe\">\n",
              "  <thead>\n",
              "    <tr style=\"text-align: right;\">\n",
              "      <th></th>\n",
              "      <th>symbol</th>\n",
              "      <th>datetime</th>\n",
              "      <th>open</th>\n",
              "      <th>high</th>\n",
              "      <th>low</th>\n",
              "      <th>close</th>\n",
              "      <th>volume</th>\n",
              "      <th>number_of_trades</th>\n",
              "    </tr>\n",
              "  </thead>\n",
              "  <tbody>\n",
              "    <tr>\n",
              "      <th>0</th>\n",
              "      <td>BTCUSDT</td>\n",
              "      <td>2021-10-12 12:45:00</td>\n",
              "      <td>56931.40</td>\n",
              "      <td>56986.09</td>\n",
              "      <td>56916.00</td>\n",
              "      <td>56945.74</td>\n",
              "      <td>28.9</td>\n",
              "      <td>946</td>\n",
              "    </tr>\n",
              "    <tr>\n",
              "      <th>1</th>\n",
              "      <td>BTCUSDT</td>\n",
              "      <td>2021-10-12 12:46:00</td>\n",
              "      <td>56945.74</td>\n",
              "      <td>56985.82</td>\n",
              "      <td>56903.01</td>\n",
              "      <td>56955.59</td>\n",
              "      <td>21.9</td>\n",
              "      <td>845</td>\n",
              "    </tr>\n",
              "    <tr>\n",
              "      <th>2</th>\n",
              "      <td>BTCUSDT</td>\n",
              "      <td>2021-10-12 12:47:00</td>\n",
              "      <td>56955.59</td>\n",
              "      <td>56955.60</td>\n",
              "      <td>56890.69</td>\n",
              "      <td>56890.70</td>\n",
              "      <td>31.0</td>\n",
              "      <td>800</td>\n",
              "    </tr>\n",
              "    <tr>\n",
              "      <th>3</th>\n",
              "      <td>BTCUSDT</td>\n",
              "      <td>2021-10-12 12:48:00</td>\n",
              "      <td>56890.69</td>\n",
              "      <td>56910.23</td>\n",
              "      <td>56852.94</td>\n",
              "      <td>56868.14</td>\n",
              "      <td>35.5</td>\n",
              "      <td>933</td>\n",
              "    </tr>\n",
              "    <tr>\n",
              "      <th>4</th>\n",
              "      <td>BTCUSDT</td>\n",
              "      <td>2021-10-12 12:49:00</td>\n",
              "      <td>56868.14</td>\n",
              "      <td>56935.00</td>\n",
              "      <td>56851.08</td>\n",
              "      <td>56913.00</td>\n",
              "      <td>38.5</td>\n",
              "      <td>1161</td>\n",
              "    </tr>\n",
              "    <tr>\n",
              "      <th>...</th>\n",
              "      <td>...</td>\n",
              "      <td>...</td>\n",
              "      <td>...</td>\n",
              "      <td>...</td>\n",
              "      <td>...</td>\n",
              "      <td>...</td>\n",
              "      <td>...</td>\n",
              "      <td>...</td>\n",
              "    </tr>\n",
              "    <tr>\n",
              "      <th>495</th>\n",
              "      <td>BTCUSDT</td>\n",
              "      <td>2021-10-12 21:00:00</td>\n",
              "      <td>55361.08</td>\n",
              "      <td>55402.66</td>\n",
              "      <td>55233.14</td>\n",
              "      <td>55260.04</td>\n",
              "      <td>71.9</td>\n",
              "      <td>1772</td>\n",
              "    </tr>\n",
              "    <tr>\n",
              "      <th>496</th>\n",
              "      <td>BTCUSDT</td>\n",
              "      <td>2021-10-12 21:01:00</td>\n",
              "      <td>55260.04</td>\n",
              "      <td>55289.99</td>\n",
              "      <td>55233.15</td>\n",
              "      <td>55263.05</td>\n",
              "      <td>21.3</td>\n",
              "      <td>739</td>\n",
              "    </tr>\n",
              "    <tr>\n",
              "      <th>497</th>\n",
              "      <td>BTCUSDT</td>\n",
              "      <td>2021-10-12 21:02:00</td>\n",
              "      <td>55263.05</td>\n",
              "      <td>55267.17</td>\n",
              "      <td>55185.22</td>\n",
              "      <td>55195.50</td>\n",
              "      <td>70.8</td>\n",
              "      <td>1424</td>\n",
              "    </tr>\n",
              "    <tr>\n",
              "      <th>498</th>\n",
              "      <td>BTCUSDT</td>\n",
              "      <td>2021-10-12 21:03:00</td>\n",
              "      <td>55191.77</td>\n",
              "      <td>55200.00</td>\n",
              "      <td>55100.47</td>\n",
              "      <td>55150.00</td>\n",
              "      <td>33.2</td>\n",
              "      <td>1252</td>\n",
              "    </tr>\n",
              "    <tr>\n",
              "      <th>499</th>\n",
              "      <td>BTCUSDT</td>\n",
              "      <td>2021-10-12 21:04:00</td>\n",
              "      <td>55150.00</td>\n",
              "      <td>55182.14</td>\n",
              "      <td>55148.01</td>\n",
              "      <td>55158.73</td>\n",
              "      <td>11.6</td>\n",
              "      <td>342</td>\n",
              "    </tr>\n",
              "  </tbody>\n",
              "</table>\n",
              "<p>500 rows × 8 columns</p>\n",
              "</div>"
            ],
            "text/plain": [
              "      symbol            datetime      open  ...     close  volume  number_of_trades\n",
              "0    BTCUSDT 2021-10-12 12:45:00  56931.40  ...  56945.74    28.9               946\n",
              "1    BTCUSDT 2021-10-12 12:46:00  56945.74  ...  56955.59    21.9               845\n",
              "2    BTCUSDT 2021-10-12 12:47:00  56955.59  ...  56890.70    31.0               800\n",
              "3    BTCUSDT 2021-10-12 12:48:00  56890.69  ...  56868.14    35.5               933\n",
              "4    BTCUSDT 2021-10-12 12:49:00  56868.14  ...  56913.00    38.5              1161\n",
              "..       ...                 ...       ...  ...       ...     ...               ...\n",
              "495  BTCUSDT 2021-10-12 21:00:00  55361.08  ...  55260.04    71.9              1772\n",
              "496  BTCUSDT 2021-10-12 21:01:00  55260.04  ...  55263.05    21.3               739\n",
              "497  BTCUSDT 2021-10-12 21:02:00  55263.05  ...  55195.50    70.8              1424\n",
              "498  BTCUSDT 2021-10-12 21:03:00  55191.77  ...  55150.00    33.2              1252\n",
              "499  BTCUSDT 2021-10-12 21:04:00  55150.00  ...  55158.73    11.6               342\n",
              "\n",
              "[500 rows x 8 columns]"
            ]
          },
          "metadata": {},
          "execution_count": 4
        }
      ]
    },
    {
      "cell_type": "markdown",
      "metadata": {
        "id": "wxtSQhC3KZBN"
      },
      "source": [
        "# **Compra de Criptomoedas e Status da Carteira**"
      ]
    },
    {
      "cell_type": "code",
      "metadata": {
        "colab": {
          "base_uri": "https://localhost:8080/",
          "height": 173
        },
        "id": "nDKuF0hUGQe6",
        "outputId": "3b1d031a-fdcb-4342-cfca-cacd004f4a2f"
      },
      "source": [
        "# Status da carteira\n",
        "api_post('status', payload = {'token': token})"
      ],
      "execution_count": 5,
      "outputs": [
        {
          "output_type": "execute_result",
          "data": {
            "text/html": [
              "<div>\n",
              "<style scoped>\n",
              "    .dataframe tbody tr th:only-of-type {\n",
              "        vertical-align: middle;\n",
              "    }\n",
              "\n",
              "    .dataframe tbody tr th {\n",
              "        vertical-align: top;\n",
              "    }\n",
              "\n",
              "    .dataframe thead th {\n",
              "        text-align: right;\n",
              "    }\n",
              "</style>\n",
              "<table border=\"1\" class=\"dataframe\">\n",
              "  <thead>\n",
              "    <tr style=\"text-align: right;\">\n",
              "      <th></th>\n",
              "      <th>ticker</th>\n",
              "      <th>quantity</th>\n",
              "    </tr>\n",
              "  </thead>\n",
              "  <tbody>\n",
              "    <tr>\n",
              "      <th>0</th>\n",
              "      <td>DOGEUSDT</td>\n",
              "      <td>0.00</td>\n",
              "    </tr>\n",
              "    <tr>\n",
              "      <th>1</th>\n",
              "      <td>BTCUSDT</td>\n",
              "      <td>0.00</td>\n",
              "    </tr>\n",
              "    <tr>\n",
              "      <th>2</th>\n",
              "      <td>money</td>\n",
              "      <td>9999.95</td>\n",
              "    </tr>\n",
              "    <tr>\n",
              "      <th>3</th>\n",
              "      <td>total</td>\n",
              "      <td>9999.95</td>\n",
              "    </tr>\n",
              "  </tbody>\n",
              "</table>\n",
              "</div>"
            ],
            "text/plain": [
              "     ticker  quantity\n",
              "0  DOGEUSDT      0.00\n",
              "1   BTCUSDT      0.00\n",
              "2     money   9999.95\n",
              "3     total   9999.95"
            ]
          },
          "metadata": {},
          "execution_count": 5
        }
      ]
    },
    {
      "cell_type": "code",
      "metadata": {
        "colab": {
          "base_uri": "https://localhost:8080/",
          "height": 35
        },
        "id": "mmV3If81GUns",
        "outputId": "90b1d0e9-ef6e-42df-9485-1ddd77d233f8"
      },
      "source": [
        "# Compra de cripto\n",
        "api_post('buy', payload = {'token': token, 'ticker': 'BTCUSDT', 'quantity': 0.2})"
      ],
      "execution_count": 6,
      "outputs": [
        {
          "output_type": "execute_result",
          "data": {
            "application/vnd.google.colaboratory.intrinsic+json": {
              "type": "string"
            },
            "text/plain": [
              "'Sorry, too many stocks!'"
            ]
          },
          "metadata": {},
          "execution_count": 6
        }
      ]
    },
    {
      "cell_type": "code",
      "metadata": {
        "colab": {
          "base_uri": "https://localhost:8080/",
          "height": 173
        },
        "id": "ezGaEnOrGeOr",
        "outputId": "143b83b3-c71d-432d-d45d-25deafbdc1a6"
      },
      "source": [
        "# Status da carteira\n",
        "api_post('status', payload = {'token': token})"
      ],
      "execution_count": 7,
      "outputs": [
        {
          "output_type": "execute_result",
          "data": {
            "text/html": [
              "<div>\n",
              "<style scoped>\n",
              "    .dataframe tbody tr th:only-of-type {\n",
              "        vertical-align: middle;\n",
              "    }\n",
              "\n",
              "    .dataframe tbody tr th {\n",
              "        vertical-align: top;\n",
              "    }\n",
              "\n",
              "    .dataframe thead th {\n",
              "        text-align: right;\n",
              "    }\n",
              "</style>\n",
              "<table border=\"1\" class=\"dataframe\">\n",
              "  <thead>\n",
              "    <tr style=\"text-align: right;\">\n",
              "      <th></th>\n",
              "      <th>ticker</th>\n",
              "      <th>quantity</th>\n",
              "    </tr>\n",
              "  </thead>\n",
              "  <tbody>\n",
              "    <tr>\n",
              "      <th>0</th>\n",
              "      <td>DOGEUSDT</td>\n",
              "      <td>0.00</td>\n",
              "    </tr>\n",
              "    <tr>\n",
              "      <th>1</th>\n",
              "      <td>BTCUSDT</td>\n",
              "      <td>0.00</td>\n",
              "    </tr>\n",
              "    <tr>\n",
              "      <th>2</th>\n",
              "      <td>money</td>\n",
              "      <td>9999.95</td>\n",
              "    </tr>\n",
              "    <tr>\n",
              "      <th>3</th>\n",
              "      <td>total</td>\n",
              "      <td>9999.95</td>\n",
              "    </tr>\n",
              "  </tbody>\n",
              "</table>\n",
              "</div>"
            ],
            "text/plain": [
              "     ticker  quantity\n",
              "0  DOGEUSDT      0.00\n",
              "1   BTCUSDT      0.00\n",
              "2     money   9999.95\n",
              "3     total   9999.95"
            ]
          },
          "metadata": {},
          "execution_count": 7
        }
      ]
    },
    {
      "cell_type": "markdown",
      "metadata": {
        "id": "6ibWGcTRK1iB"
      },
      "source": [
        "# **Venda de Criptomoedas e status da Carteira**"
      ]
    },
    {
      "cell_type": "code",
      "metadata": {
        "colab": {
          "base_uri": "https://localhost:8080/",
          "height": 35
        },
        "id": "j0bQ-6IPGl-8",
        "outputId": "36d98a5e-90c8-42ca-a358-653f442f2601"
      },
      "source": [
        "# Vendendo cripto\n",
        "api_post('sell', payload = {'token': token, 'ticker': 'BTCUSDT', 'quantity': 0.2})"
      ],
      "execution_count": 8,
      "outputs": [
        {
          "output_type": "execute_result",
          "data": {
            "application/vnd.google.colaboratory.intrinsic+json": {
              "type": "string"
            },
            "text/plain": [
              "'You only have 0.0 of BTCUSDT'"
            ]
          },
          "metadata": {},
          "execution_count": 8
        }
      ]
    },
    {
      "cell_type": "code",
      "metadata": {
        "colab": {
          "base_uri": "https://localhost:8080/",
          "height": 173
        },
        "id": "DL27K4NGGrj5",
        "outputId": "f8ee6306-444d-4a42-ccc1-edbce57e5bb8"
      },
      "source": [
        "# Verificando novamente o status da carteira\n",
        "api_post('status', payload = {'token': token})"
      ],
      "execution_count": 9,
      "outputs": [
        {
          "output_type": "execute_result",
          "data": {
            "text/html": [
              "<div>\n",
              "<style scoped>\n",
              "    .dataframe tbody tr th:only-of-type {\n",
              "        vertical-align: middle;\n",
              "    }\n",
              "\n",
              "    .dataframe tbody tr th {\n",
              "        vertical-align: top;\n",
              "    }\n",
              "\n",
              "    .dataframe thead th {\n",
              "        text-align: right;\n",
              "    }\n",
              "</style>\n",
              "<table border=\"1\" class=\"dataframe\">\n",
              "  <thead>\n",
              "    <tr style=\"text-align: right;\">\n",
              "      <th></th>\n",
              "      <th>ticker</th>\n",
              "      <th>quantity</th>\n",
              "    </tr>\n",
              "  </thead>\n",
              "  <tbody>\n",
              "    <tr>\n",
              "      <th>0</th>\n",
              "      <td>DOGEUSDT</td>\n",
              "      <td>0.00</td>\n",
              "    </tr>\n",
              "    <tr>\n",
              "      <th>1</th>\n",
              "      <td>BTCUSDT</td>\n",
              "      <td>0.00</td>\n",
              "    </tr>\n",
              "    <tr>\n",
              "      <th>2</th>\n",
              "      <td>money</td>\n",
              "      <td>9999.95</td>\n",
              "    </tr>\n",
              "    <tr>\n",
              "      <th>3</th>\n",
              "      <td>total</td>\n",
              "      <td>9999.95</td>\n",
              "    </tr>\n",
              "  </tbody>\n",
              "</table>\n",
              "</div>"
            ],
            "text/plain": [
              "     ticker  quantity\n",
              "0  DOGEUSDT      0.00\n",
              "1   BTCUSDT      0.00\n",
              "2     money   9999.95\n",
              "3     total   9999.95"
            ]
          },
          "metadata": {},
          "execution_count": 9
        }
      ]
    },
    {
      "cell_type": "markdown",
      "metadata": {
        "id": "-uyUaY7UK6TQ"
      },
      "source": [
        "# **Histórico de Transações**"
      ]
    },
    {
      "cell_type": "code",
      "metadata": {
        "colab": {
          "base_uri": "https://localhost:8080/",
          "height": 359
        },
        "id": "wQQhHVG3Gh2h",
        "outputId": "2c5b81c1-0e7e-491b-e993-3395087da13e"
      },
      "source": [
        "# Verificando histórico de todas as movimentações\n",
        "api_post('history', payload = {'token': token})"
      ],
      "execution_count": 10,
      "outputs": [
        {
          "output_type": "execute_result",
          "data": {
            "text/html": [
              "<div>\n",
              "<style scoped>\n",
              "    .dataframe tbody tr th:only-of-type {\n",
              "        vertical-align: middle;\n",
              "    }\n",
              "\n",
              "    .dataframe tbody tr th {\n",
              "        vertical-align: top;\n",
              "    }\n",
              "\n",
              "    .dataframe thead th {\n",
              "        text-align: right;\n",
              "    }\n",
              "</style>\n",
              "<table border=\"1\" class=\"dataframe\">\n",
              "  <thead>\n",
              "    <tr style=\"text-align: right;\">\n",
              "      <th></th>\n",
              "      <th>ticker</th>\n",
              "      <th>datetime</th>\n",
              "      <th>side</th>\n",
              "      <th>quantity</th>\n",
              "      <th>price</th>\n",
              "    </tr>\n",
              "  </thead>\n",
              "  <tbody>\n",
              "    <tr>\n",
              "      <th>0</th>\n",
              "      <td>DOGEUSDT</td>\n",
              "      <td>2021-09-22 01:26:39</td>\n",
              "      <td>buy</td>\n",
              "      <td>0.20000</td>\n",
              "      <td>0.2054</td>\n",
              "    </tr>\n",
              "    <tr>\n",
              "      <th>1</th>\n",
              "      <td>DOGEUSDT</td>\n",
              "      <td>2021-09-22 01:27:05</td>\n",
              "      <td>sell</td>\n",
              "      <td>0.20000</td>\n",
              "      <td>0.2058</td>\n",
              "    </tr>\n",
              "    <tr>\n",
              "      <th>2</th>\n",
              "      <td>BTCUSDT</td>\n",
              "      <td>2021-10-11 14:11:25</td>\n",
              "      <td>buy</td>\n",
              "      <td>0.00001</td>\n",
              "      <td>57168.4000</td>\n",
              "    </tr>\n",
              "    <tr>\n",
              "      <th>3</th>\n",
              "      <td>BTCUSDT</td>\n",
              "      <td>2021-10-11 14:12:04</td>\n",
              "      <td>sell</td>\n",
              "      <td>0.00001</td>\n",
              "      <td>57205.2000</td>\n",
              "    </tr>\n",
              "    <tr>\n",
              "      <th>4</th>\n",
              "      <td>BTCUSDT</td>\n",
              "      <td>2021-10-11 14:22:37</td>\n",
              "      <td>buy</td>\n",
              "      <td>0.00017</td>\n",
              "      <td>57375.5000</td>\n",
              "    </tr>\n",
              "    <tr>\n",
              "      <th>5</th>\n",
              "      <td>BTCUSDT</td>\n",
              "      <td>2021-10-11 14:34:09</td>\n",
              "      <td>sell</td>\n",
              "      <td>0.00017</td>\n",
              "      <td>57493.2000</td>\n",
              "    </tr>\n",
              "    <tr>\n",
              "      <th>6</th>\n",
              "      <td>BTCUSDT</td>\n",
              "      <td>2021-10-11 16:15:59</td>\n",
              "      <td>buy</td>\n",
              "      <td>0.00017</td>\n",
              "      <td>57752.5000</td>\n",
              "    </tr>\n",
              "    <tr>\n",
              "      <th>7</th>\n",
              "      <td>BTCUSDT</td>\n",
              "      <td>2021-10-11 16:46:19</td>\n",
              "      <td>sell</td>\n",
              "      <td>0.00017</td>\n",
              "      <td>57353.0000</td>\n",
              "    </tr>\n",
              "    <tr>\n",
              "      <th>8</th>\n",
              "      <td>BTCUSDT</td>\n",
              "      <td>2021-10-11 17:01:00</td>\n",
              "      <td>buy</td>\n",
              "      <td>0.00017</td>\n",
              "      <td>57234.0000</td>\n",
              "    </tr>\n",
              "    <tr>\n",
              "      <th>9</th>\n",
              "      <td>BTCUSDT</td>\n",
              "      <td>2021-10-11 17:06:12</td>\n",
              "      <td>sell</td>\n",
              "      <td>0.00017</td>\n",
              "      <td>57323.6000</td>\n",
              "    </tr>\n",
              "  </tbody>\n",
              "</table>\n",
              "</div>"
            ],
            "text/plain": [
              "     ticker            datetime  side  quantity       price\n",
              "0  DOGEUSDT 2021-09-22 01:26:39   buy   0.20000      0.2054\n",
              "1  DOGEUSDT 2021-09-22 01:27:05  sell   0.20000      0.2058\n",
              "2   BTCUSDT 2021-10-11 14:11:25   buy   0.00001  57168.4000\n",
              "3   BTCUSDT 2021-10-11 14:12:04  sell   0.00001  57205.2000\n",
              "4   BTCUSDT 2021-10-11 14:22:37   buy   0.00017  57375.5000\n",
              "5   BTCUSDT 2021-10-11 14:34:09  sell   0.00017  57493.2000\n",
              "6   BTCUSDT 2021-10-11 16:15:59   buy   0.00017  57752.5000\n",
              "7   BTCUSDT 2021-10-11 16:46:19  sell   0.00017  57353.0000\n",
              "8   BTCUSDT 2021-10-11 17:01:00   buy   0.00017  57234.0000\n",
              "9   BTCUSDT 2021-10-11 17:06:12  sell   0.00017  57323.6000"
            ]
          },
          "metadata": {},
          "execution_count": 10
        }
      ]
    }
  ]
}